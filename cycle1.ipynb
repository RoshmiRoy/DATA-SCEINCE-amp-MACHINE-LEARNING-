{
  "nbformat": 4,
  "nbformat_minor": 0,
  "metadata": {
    "colab": {
      "name": "cycle1",
      "provenance": [],
      "collapsed_sections": [],
      "authorship_tag": "ABX9TyMnxt+iKm8COM8Esed2RCVu",
      "include_colab_link": true
    },
    "kernelspec": {
      "name": "python3",
      "display_name": "Python 3"
    },
    "language_info": {
      "name": "python"
    }
  },
  "cells": [
    {
      "cell_type": "markdown",
      "metadata": {
        "id": "view-in-github",
        "colab_type": "text"
      },
      "source": [
        "<a href=\"https://colab.research.google.com/github/RoshmiRoy/DATA-SCEINCE-amp-MACHINE-LEARNING-/blob/main/cycle1.ipynb\" target=\"_parent\"><img src=\"https://colab.research.google.com/assets/colab-badge.svg\" alt=\"Open In Colab\"/></a>"
      ]
    },
    {
      "cell_type": "code",
      "metadata": {
        "colab": {
          "base_uri": "https://localhost:8080/"
        },
        "id": "uX7L_jTzDtua",
        "outputId": "003ed5f5-8701-4c4f-8f1e-5256b63cb628"
      },
      "source": [
        "#1\n",
        "first=int(input(\"Enter the First Limit:\"))\n",
        "last=int(input(\"Enter the last limit\"))\n",
        "\n",
        "for num in range(first,last + 1):\n",
        "    if num > 1:\n",
        "        for i in range(2,num):\n",
        "            if(num % i == 0):\n",
        "                print(num)\n",
        "                break"
      ],
      "execution_count": null,
      "outputs": [
        {
          "output_type": "stream",
          "name": "stdout",
          "text": [
            "Enter the First Limit:1\n",
            "Enter the last limit10\n",
            "4\n",
            "6\n",
            "8\n",
            "9\n",
            "10\n"
          ]
        }
      ]
    },
    {
      "cell_type": "code",
      "metadata": {
        "colab": {
          "base_uri": "https://localhost:8080/"
        },
        "id": "pDluzl2VHjkp",
        "outputId": "d7a1980a-594c-4a6e-a7ad-efeea5900bdf"
      },
      "source": [
        "#2\n",
        "n = int (input(\"how many  fiboncci number you want\"))\n",
        "\n",
        "n1, n2 = 0, 1\n",
        "i = 0\n",
        "if n < 0:\n",
        "   print(\"enter positive number\")\n",
        "elif n == 1:\n",
        "     print(\"fibonacci sequence:\" , n1)\n",
        "else:\n",
        "    print(\"fibonacci sequence\")     \n",
        "    while i < n:\n",
        "        print(n1)\n",
        "        nth = n1 + n2\n",
        "\n",
        "        n1 = n2\n",
        "        n2  = nth\n",
        "        i += 1"
      ],
      "execution_count": null,
      "outputs": [
        {
          "output_type": "stream",
          "name": "stdout",
          "text": [
            "how many  fiboncci number you want10\n",
            "fibonacci sequence\n",
            "0\n",
            "1\n",
            "1\n",
            "2\n",
            "3\n",
            "5\n",
            "8\n",
            "13\n",
            "21\n",
            "34\n"
          ]
        }
      ]
    },
    {
      "cell_type": "code",
      "metadata": {
        "colab": {
          "base_uri": "https://localhost:8080/"
        },
        "id": "SnE_zqiJI5mI",
        "outputId": "1a4d393d-293d-487b-aa67-23b28f04865f"
      },
      "source": [
        "#3\n",
        "a = int(input(\"Enter first side : \"))\n",
        "b = int(input(\"Enter second side : \"))\n",
        "c = int(input(\"Enter third side : \"))\n",
        "\n",
        "if a == b and b == c :\n",
        "    print(\"Equilateral Triangle\")\n",
        "elif a == b or b == c or c == a:\n",
        "    print(\"Isosceles Triangle\")\n",
        "else :\n",
        "    print(\"Scalene Triangle\")"
      ],
      "execution_count": null,
      "outputs": [
        {
          "output_type": "stream",
          "name": "stdout",
          "text": [
            "Enter first side : 10\n",
            "Enter second side : 20\n",
            "Enter third side : 15\n",
            "Scalene Triangle\n"
          ]
        }
      ]
    },
    {
      "cell_type": "code",
      "metadata": {
        "id": "xghXExYwLC3m",
        "colab": {
          "base_uri": "https://localhost:8080/"
        },
        "outputId": "db937b98-fc89-46ee-deb9-2825ec4f60ac"
      },
      "source": [
        "#4\n",
        "\n",
        "num1= int(input(\" enter the first number: \")) \n",
        "num2= int(input(\"enter the second number: \")) \n",
        "mn = min(num1, num2) \n",
        "for i in range(1, mn+1): \n",
        " if num1%i==0 and num2%i==0:  \n",
        "    hcf = i \n",
        "if hcf == 1: \n",
        " print(\"Entered numbers are coprime\") \n",
        "else: \n",
        " print(\" They are not Co-Prime\")"
      ],
      "execution_count": 13,
      "outputs": [
        {
          "output_type": "stream",
          "name": "stdout",
          "text": [
            " enter the first number: 6\n",
            "enter the second number: 4\n",
            " They are not Co-Prime\n"
          ]
        }
      ]
    },
    {
      "cell_type": "code",
      "metadata": {
        "id": "vIJMvT0BPuC1",
        "colab": {
          "base_uri": "https://localhost:8080/"
        },
        "outputId": "110ce467-be12-4ad6-d289-341dd9be96a2"
      },
      "source": [
        "#5\n",
        "a, b, c = [int(input()) for _ in range(3)]\n",
        "if a == 0:\n",
        "    print(round(-c / b, 2))\n",
        "else:\n",
        "    d = b * b - 4 * a * c\n",
        "    if d < 0:\n",
        "        print('no roots')\n",
        "    elif d == 0:\n",
        "        print(round(-b / 2 / a, 2))\n",
        "    else:\n",
        "        print(round((-b - d ** 0.5) / 2 / a, 2))\n",
        "        print(round((-b + d ** 0.5) / 2 / a, 2))"
      ],
      "execution_count": 4,
      "outputs": [
        {
          "output_type": "stream",
          "name": "stdout",
          "text": [
            "1\n",
            "-5\n",
            "6\n",
            "2.0\n",
            "3.0\n"
          ]
        }
      ]
    },
    {
      "cell_type": "code",
      "metadata": {
        "colab": {
          "base_uri": "https://localhost:8080/"
        },
        "id": "rsXZf1RHPwOb",
        "outputId": "ecc260dc-1e66-42d8-eaf4-c0ae5afa9112"
      },
      "source": [
        "#6\n",
        "n = int(input(\"Enter any number: \"))\n",
        "sum1 = 0\n",
        "for i in range(1, n):\n",
        "    if(n % i == 0):\n",
        "        sum1 = sum1 + i\n",
        "if (sum1 == n):\n",
        "    print(\"The number is a Perfect number!\")\n",
        "else:\n",
        "    print(\"The number is not a Perfect number!\")\n"
      ],
      "execution_count": null,
      "outputs": [
        {
          "output_type": "stream",
          "name": "stdout",
          "text": [
            "Enter any number: 6\n",
            "The number is a Perfect number!\n"
          ]
        }
      ]
    },
    {
      "cell_type": "code",
      "metadata": {
        "colab": {
          "base_uri": "https://localhost:8080/"
        },
        "id": "sCQlnyypOFXv",
        "outputId": "295833e1-cbd3-46d6-801e-51802679ef52"
      },
      "source": [
        "#7\n",
        "\n",
        "lower = 1\n",
        "upper = 1000\n",
        "\n",
        "for num in range(lower, upper + 1):\n",
        "\n",
        "   \n",
        "   order = len(str(num))\n",
        "    sum = 0\n",
        "\n",
        "   temp = num\n",
        "   while temp > 0:\n",
        "       digit = temp % 10\n",
        "       sum += digit ** order\n",
        "       temp //= 10\n",
        "\n",
        "   if num == sum:\n",
        "       print(num)\n"
      ],
      "execution_count": null,
      "outputs": [
        {
          "output_type": "stream",
          "name": "stdout",
          "text": [
            "1\n",
            "2\n",
            "3\n",
            "4\n",
            "5\n",
            "6\n",
            "7\n",
            "8\n",
            "9\n",
            "153\n",
            "370\n",
            "371\n",
            "407\n"
          ]
        }
      ]
    },
    {
      "cell_type": "code",
      "metadata": {
        "id": "SFbgeCooPyz0"
      },
      "source": [
        "#8\n"
      ],
      "execution_count": null,
      "outputs": []
    },
    {
      "cell_type": "code",
      "metadata": {
        "colab": {
          "base_uri": "https://localhost:8080/"
        },
        "id": "xsP5phipOw4M",
        "outputId": "58e4c5de-09e4-463a-d38d-5087423a20a7"
      },
      "source": [
        "#9\n",
        "lt1 = [5, 10, 15, 20, 25, 30]  \n",
        "lt2 = [2, 4, 6, 8, 10, 12]    \n",
        "print ( \" Python Original list 1: \" + str (lt1))  \n",
        "print ( \"Python Original list 2: \" + str (lt2))    \n",
        "res_lt = []   \n",
        "for x in range (0, len (lt1)):  \n",
        "    res_lt.append( lt1[x] + lt2[x])  \n",
        "print ( \" Addition of the list lt1 and lt2 is: \" + str (res_lt))"
      ],
      "execution_count": null,
      "outputs": [
        {
          "output_type": "stream",
          "name": "stdout",
          "text": [
            " Python Original list 1: [5, 10, 15, 20, 25, 30]\n",
            "Python Original list 2: [2, 4, 6, 8, 10, 12]\n",
            " Addition of the list lt1 and lt2 is: [7, 14, 21, 28, 35, 42]\n"
          ]
        }
      ]
    },
    {
      "cell_type": "code",
      "metadata": {
        "colab": {
          "base_uri": "https://localhost:8080/"
        },
        "id": "E14Fml9BPYBT",
        "outputId": "cf9b9f1f-75a6-4587-e5a2-91f7496ad2c2"
      },
      "source": [
        "#10\n",
        "rows = int(input(\"Enter the Number of rows : \" ))\n",
        "column = int(input(\"Enter the Number of Columns: \"))\n",
        "\n",
        "print(\"Enter the elements of First Matrix:\")\n",
        "matrix_a= [[int(input()) for i in range(column)] for i in range(rows)]\n",
        "print(\"First Matrix is: \")\n",
        "for n in matrix_a:\n",
        "    print(n)\n",
        "\n",
        "print(\"Enter the elements of Second Matrix:\")\n",
        "matrix_b= [[int(input()) for i in range(column)] for i in range(rows)]\n",
        "for n in matrix_b:\n",
        "    print(n)\n",
        "    \n",
        "result=[[0 for i in range(column)] for i in range(rows)]\n",
        "\n",
        "for i in range(rows):\n",
        "    for j in range(column):\n",
        "        result[i][j] = matrix_a[i][j]+matrix_b[i][j]\n",
        "\n",
        "print(\"The Sum of Above two Matrices is : \")\n",
        "for r in result:\n",
        "    print(r)"
      ],
      "execution_count": 12,
      "outputs": [
        {
          "output_type": "stream",
          "name": "stdout",
          "text": [
            "Enter the Number of rows : 2\n",
            "Enter the Number of Columns: 2\n",
            "Enter the elements of First Matrix:\n",
            "2\n",
            "3\n",
            "4\n",
            "5\n",
            "First Matrix is: \n",
            "[2, 3]\n",
            "[4, 5]\n",
            "Enter the elements of Second Matrix:\n",
            "5\n",
            "4\n",
            "2\n",
            "1\n",
            "[5, 4]\n",
            "[2, 1]\n",
            "The Sum of Above two Matrices is : \n",
            "[7, 7]\n",
            "[6, 6]\n"
          ]
        }
      ]
    },
    {
      "cell_type": "code",
      "metadata": {
        "colab": {
          "base_uri": "https://localhost:8080/"
        },
        "id": "7Fcc6BJPRq4h",
        "outputId": "b0afe1df-c2a9-4105-c005-c97259a12abf"
      },
      "source": [
        "#11\n",
        "a = [35, 10, 31, 11, 26]    \n",
        "print(\"Before sorting array elements are - \")  \n",
        "for i in a:     \n",
        "    print(i, end = \" \")    \n",
        "for i in range(0,len(a)):    \n",
        "    for j in range(i+1,len(a)):    \n",
        "        if a[j]<a[i]:    \n",
        "            temp = a[j]    \n",
        "            a[j]=a[i]    \n",
        "            a[i]=temp    \n",
        "print(\"\\nAfter sorting array elements are - \")    \n",
        "for i in a:     \n",
        "    print(i, end = \" \")   "
      ],
      "execution_count": null,
      "outputs": [
        {
          "output_type": "stream",
          "name": "stdout",
          "text": [
            "Before sorting array elements are - \n",
            "35 10 31 11 26 \n",
            "After sorting array elements are - \n",
            "10 11 26 31 35 "
          ]
        }
      ]
    },
    {
      "cell_type": "code",
      "metadata": {
        "colab": {
          "base_uri": "https://localhost:8080/"
        },
        "id": "Lz0IAoIWRrHn",
        "outputId": "04fadba3-4cbf-4ee5-f1e0-bcca360ece2a"
      },
      "source": [
        "#12\n",
        "vowels = 'aeiou'\n",
        "user_input = input(\"Enter a string: \")\n",
        "string = user_input.casefold()\n",
        "count_vowels = {}.fromkeys(vowels, 0)\n",
        "for x in string:\n",
        "    if x in count_vowels:\n",
        "        count_vowels[x] += 1\n",
        " \n",
        "print(\"Total number of vowels - \",count_vowels)"
      ],
      "execution_count": null,
      "outputs": [
        {
          "output_type": "stream",
          "name": "stdout",
          "text": [
            "Enter a string: hello\n",
            "Total number of vowels -  {'a': 0, 'e': 1, 'i': 0, 'o': 1, 'u': 0}\n"
          ]
        }
      ]
    },
    {
      "cell_type": "code",
      "metadata": {
        "id": "tQbMc5C4TpSI"
      },
      "source": [
        "#13\n"
      ],
      "execution_count": null,
      "outputs": []
    },
    {
      "cell_type": "code",
      "metadata": {
        "colab": {
          "base_uri": "https://localhost:8080/",
          "height": 129
        },
        "id": "Hl_Mb9SwTqpI",
        "outputId": "7a7d92e2-6cb1-4972-da91-d0a303995514"
      },
      "source": [
        "#14\n",
        "\n",
        "n = int(input(\"Enter  number: \"))\n",
        "n = arr[]\n",
        "missing_elements = []\n",
        "for ele in range(arr[0], arr[-1]+1):\n",
        "    if ele not in arr:\n",
        "        missing_elements.append(ele)\n",
        "print(missing_elements)"
      ],
      "execution_count": null,
      "outputs": [
        {
          "output_type": "error",
          "ename": "SyntaxError",
          "evalue": "ignored",
          "traceback": [
            "\u001b[0;36m  File \u001b[0;32m\"<ipython-input-34-d6c79b3533da>\"\u001b[0;36m, line \u001b[0;32m4\u001b[0m\n\u001b[0;31m    n=arr[]\u001b[0m\n\u001b[0m          ^\u001b[0m\n\u001b[0;31mSyntaxError\u001b[0m\u001b[0;31m:\u001b[0m invalid syntax\n"
          ]
        }
      ]
    }
  ]
}